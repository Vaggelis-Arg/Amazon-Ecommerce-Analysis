{
  "cells": [
    {
      "cell_type": "markdown",
      "metadata": {
        "colab_type": "text",
        "id": "view-in-github"
      },
      "source": [
        "<a href=\"https://colab.research.google.com/github/Vaggelis-Arg/Amazon-Ecommerce-Analysis/blob/main/Amazon_Ecommerce_Analysis.ipynb\" target=\"_parent\"><img src=\"https://colab.research.google.com/assets/colab-badge.svg\" alt=\"Open In Colab\"/></a>"
      ]
    },
    {
      "cell_type": "code",
      "execution_count": 6,
      "metadata": {
        "colab": {
          "base_uri": "https://localhost:8080/"
        },
        "id": "i_gdi3OfHcp5",
        "outputId": "f37eb8c9-22c2-4eac-a408-15547790ce28"
      },
      "outputs": [
        {
          "name": "stderr",
          "output_type": "stream",
          "text": [
            "[nltk_data] Downloading package punkt to\n",
            "[nltk_data]     /home/vaggelisarg/nltk_data...\n",
            "[nltk_data]   Package punkt is already up-to-date!\n",
            "[nltk_data] Downloading package stopwords to\n",
            "[nltk_data]     /home/vaggelisarg/nltk_data...\n",
            "[nltk_data]   Package stopwords is already up-to-date!\n",
            "[nltk_data] Downloading package vader_lexicon to\n",
            "[nltk_data]     /home/vaggelisarg/nltk_data...\n",
            "[nltk_data]   Package vader_lexicon is already up-to-date!\n",
            "[nltk_data] Downloading package wordnet to\n",
            "[nltk_data]     /home/vaggelisarg/nltk_data...\n",
            "[nltk_data]   Package wordnet is already up-to-date!\n"
          ]
        },
        {
          "data": {
            "text/plain": [
              "True"
            ]
          },
          "execution_count": 6,
          "metadata": {},
          "output_type": "execute_result"
        }
      ],
      "source": [
        "import nltk\n",
        "nltk.download(['punkt', 'stopwords', 'vader_lexicon', 'wordnet'])"
      ]
    },
    {
      "cell_type": "code",
      "execution_count": 7,
      "metadata": {
        "colab": {
          "base_uri": "https://localhost:8080/"
        },
        "id": "5sqnkpdgqv_s",
        "outputId": "e712f24d-9351-400f-9ba9-38dfdcc80d58"
      },
      "outputs": [
        {
          "name": "stdout",
          "output_type": "stream",
          "text": [
            "Requirement already satisfied: datasets in /home/vaggelisarg/miniconda3/lib/python3.12/site-packages (3.5.1)\n",
            "Requirement already satisfied: filelock in /home/vaggelisarg/miniconda3/lib/python3.12/site-packages (from datasets) (3.18.0)\n",
            "Requirement already satisfied: numpy>=1.17 in /home/vaggelisarg/miniconda3/lib/python3.12/site-packages (from datasets) (2.2.5)\n",
            "Requirement already satisfied: pyarrow>=15.0.0 in /home/vaggelisarg/miniconda3/lib/python3.12/site-packages (from datasets) (20.0.0)\n",
            "Requirement already satisfied: dill<0.3.9,>=0.3.0 in /home/vaggelisarg/miniconda3/lib/python3.12/site-packages (from datasets) (0.3.8)\n",
            "Requirement already satisfied: pandas in /home/vaggelisarg/miniconda3/lib/python3.12/site-packages (from datasets) (2.2.3)\n",
            "Requirement already satisfied: requests>=2.32.2 in /home/vaggelisarg/miniconda3/lib/python3.12/site-packages (from datasets) (2.32.2)\n",
            "Requirement already satisfied: tqdm>=4.66.3 in /home/vaggelisarg/miniconda3/lib/python3.12/site-packages (from datasets) (4.66.4)\n",
            "Requirement already satisfied: xxhash in /home/vaggelisarg/miniconda3/lib/python3.12/site-packages (from datasets) (3.5.0)\n",
            "Requirement already satisfied: multiprocess<0.70.17 in /home/vaggelisarg/miniconda3/lib/python3.12/site-packages (from datasets) (0.70.16)\n",
            "Requirement already satisfied: fsspec<=2025.3.0,>=2023.1.0 in /home/vaggelisarg/miniconda3/lib/python3.12/site-packages (from fsspec[http]<=2025.3.0,>=2023.1.0->datasets) (2025.3.0)\n",
            "Requirement already satisfied: aiohttp in /home/vaggelisarg/miniconda3/lib/python3.12/site-packages (from datasets) (3.11.18)\n",
            "Requirement already satisfied: huggingface-hub>=0.24.0 in /home/vaggelisarg/miniconda3/lib/python3.12/site-packages (from datasets) (0.30.2)\n",
            "Requirement already satisfied: packaging in /home/vaggelisarg/miniconda3/lib/python3.12/site-packages (from datasets) (23.2)\n",
            "Requirement already satisfied: pyyaml>=5.1 in /home/vaggelisarg/miniconda3/lib/python3.12/site-packages (from datasets) (6.0.2)\n",
            "Requirement already satisfied: aiohappyeyeballs>=2.3.0 in /home/vaggelisarg/miniconda3/lib/python3.12/site-packages (from aiohttp->datasets) (2.6.1)\n",
            "Requirement already satisfied: aiosignal>=1.1.2 in /home/vaggelisarg/miniconda3/lib/python3.12/site-packages (from aiohttp->datasets) (1.3.2)\n",
            "Requirement already satisfied: attrs>=17.3.0 in /home/vaggelisarg/miniconda3/lib/python3.12/site-packages (from aiohttp->datasets) (25.3.0)\n",
            "Requirement already satisfied: frozenlist>=1.1.1 in /home/vaggelisarg/miniconda3/lib/python3.12/site-packages (from aiohttp->datasets) (1.6.0)\n",
            "Requirement already satisfied: multidict<7.0,>=4.5 in /home/vaggelisarg/miniconda3/lib/python3.12/site-packages (from aiohttp->datasets) (6.4.3)\n",
            "Requirement already satisfied: propcache>=0.2.0 in /home/vaggelisarg/miniconda3/lib/python3.12/site-packages (from aiohttp->datasets) (0.3.1)\n",
            "Requirement already satisfied: yarl<2.0,>=1.17.0 in /home/vaggelisarg/miniconda3/lib/python3.12/site-packages (from aiohttp->datasets) (1.20.0)\n",
            "Requirement already satisfied: typing-extensions>=3.7.4.3 in /home/vaggelisarg/miniconda3/lib/python3.12/site-packages (from huggingface-hub>=0.24.0->datasets) (4.13.2)\n",
            "Requirement already satisfied: charset-normalizer<4,>=2 in /home/vaggelisarg/miniconda3/lib/python3.12/site-packages (from requests>=2.32.2->datasets) (2.0.4)\n",
            "Requirement already satisfied: idna<4,>=2.5 in /home/vaggelisarg/miniconda3/lib/python3.12/site-packages (from requests>=2.32.2->datasets) (3.7)\n",
            "Requirement already satisfied: urllib3<3,>=1.21.1 in /home/vaggelisarg/miniconda3/lib/python3.12/site-packages (from requests>=2.32.2->datasets) (2.2.2)\n",
            "Requirement already satisfied: certifi>=2017.4.17 in /home/vaggelisarg/miniconda3/lib/python3.12/site-packages (from requests>=2.32.2->datasets) (2025.1.31)\n",
            "Requirement already satisfied: python-dateutil>=2.8.2 in /home/vaggelisarg/miniconda3/lib/python3.12/site-packages (from pandas->datasets) (2.9.0.post0)\n",
            "Requirement already satisfied: pytz>=2020.1 in /home/vaggelisarg/miniconda3/lib/python3.12/site-packages (from pandas->datasets) (2025.2)\n",
            "Requirement already satisfied: tzdata>=2022.7 in /home/vaggelisarg/miniconda3/lib/python3.12/site-packages (from pandas->datasets) (2025.2)\n",
            "Requirement already satisfied: six>=1.5 in /home/vaggelisarg/miniconda3/lib/python3.12/site-packages (from python-dateutil>=2.8.2->pandas->datasets) (1.17.0)\n"
          ]
        }
      ],
      "source": [
        "!pip install datasets"
      ]
    },
    {
      "cell_type": "code",
      "execution_count": 8,
      "metadata": {
        "colab": {
          "base_uri": "https://localhost:8080/",
          "height": 84,
          "referenced_widgets": [
            "899ccd7be51b456c9f2c0d3bc8af9429",
            "7831aa6406664800b443a77a7b1054a6",
            "5dc9d253bf0d4a078255fe45708b8c6e",
            "205aae302dcd47bdb44094150ad5b160",
            "4a5d376557cc4dea920ee6ba309c2a34",
            "cf4cf1238f1c44268a4f4bd89987bc54",
            "1b0f3c2610814b30a02e49ea5aaafac9",
            "f7909bbb9279450888c8fc333a7c41e1",
            "0caf3f975018475c84f994e87b2061fe",
            "5e23e1abd5f342fe8ae3b4c1b8007017",
            "312788167ddf42ab9d4e229314626f8c"
          ]
        },
        "id": "3ZjPmrK5Hyfc",
        "outputId": "35a55f7e-51e7-4533-c899-e6a070965368"
      },
      "outputs": [
        {
          "name": "stdout",
          "output_type": "stream",
          "text": [
            "Loading dataset: raw_review_All_Beauty\n"
          ]
        },
        {
          "name": "stderr",
          "output_type": "stream",
          "text": [
            "Creating CSV from Arrow format: 100%|██████████| 702/702 [00:17<00:00, 40.57ba/s] "
          ]
        },
        {
          "name": "stdout",
          "output_type": "stream",
          "text": [
            "Saved to amazon_reviews_all_beauty.csv\n"
          ]
        },
        {
          "name": "stderr",
          "output_type": "stream",
          "text": [
            "\n"
          ]
        }
      ],
      "source": [
        "from datasets import load_dataset\n",
        "\n",
        "# List of dataset configurations and output file names\n",
        "datasets_info = [\n",
        "    (\"raw_review_All_Beauty\", \"amazon_reviews_all_beauty.csv\"),\n",
        "    # (\"raw_review_Books\", \"amazon_reviews_books.csv\"),\n",
        "    # (\"raw_review_Electronics\", \"amazon_reviews_electronics.csv\"),\n",
        "    # (\"raw_review_Movies_and_TV\", \"amazon_reviews_movies_and_tv.csv\"),\n",
        "    # (\"raw_review_Sports_and_Outdoors\", \"amazon_reviews_sports_and_outdoors.csv\"),\n",
        "]\n",
        "\n",
        "# Load and save each dataset\n",
        "for config, filename in datasets_info:\n",
        "    print(f\"Loading dataset: {config}\")\n",
        "    dataset = load_dataset(\"McAuley-Lab/Amazon-Reviews-2023\", config, trust_remote_code=True)\n",
        "    dataset[\"full\"].to_csv(filename)\n",
        "    print(f\"Saved to {filename}\")"
      ]
    },
    {
      "cell_type": "code",
      "execution_count": 9,
      "metadata": {
        "colab": {
          "base_uri": "https://localhost:8080/"
        },
        "id": "WDgWqzD6z4i8",
        "outputId": "3d0ae78a-9656-4067-cc82-3e1a50ee96c9"
      },
      "outputs": [
        {
          "name": "stdout",
          "output_type": "stream",
          "text": [
            "Requirement already satisfied: contractions in /home/vaggelisarg/miniconda3/lib/python3.12/site-packages (0.1.73)\n",
            "Requirement already satisfied: textsearch>=0.0.21 in /home/vaggelisarg/miniconda3/lib/python3.12/site-packages (from contractions) (0.0.24)\n",
            "Requirement already satisfied: anyascii in /home/vaggelisarg/miniconda3/lib/python3.12/site-packages (from textsearch>=0.0.21->contractions) (0.3.2)\n",
            "Requirement already satisfied: pyahocorasick in /home/vaggelisarg/miniconda3/lib/python3.12/site-packages (from textsearch>=0.0.21->contractions) (2.1.0)\n"
          ]
        }
      ],
      "source": [
        "!pip install contractions"
      ]
    },
    {
      "cell_type": "code",
      "execution_count": 10,
      "metadata": {
        "colab": {
          "base_uri": "https://localhost:8080/"
        },
        "id": "mJvXm5CEuV46",
        "outputId": "72d756b7-0442-4056-f727-cd6aacaf82f0"
      },
      "outputs": [
        {
          "name": "stdout",
          "output_type": "stream",
          "text": [
            "Processing: amazon_reviews_all_beauty.csv\n",
            "Saved cleaned data to amazon_reviews_all_beauty_cleaned.csv\n"
          ]
        }
      ],
      "source": [
        "import pandas as pd\n",
        "import re\n",
        "import string\n",
        "import contractions\n",
        "\n",
        "from datasets import load_dataset\n",
        "\n",
        "# Emoticon dictionary for replacements\n",
        "emoticons = {\n",
        "    \":)\": \"happy\",\n",
        "    \":-)\": \"happy\",\n",
        "    \":(\": \"sad\",\n",
        "    \":-(\": \"sad\",\n",
        "    \":D\": \"happy\",\n",
        "    \":-D\": \"happy\",\n",
        "    \";)\": \"wink\",\n",
        "    \";-)\": \"wink\"\n",
        "}\n",
        "\n",
        "# Preprocessing function\n",
        "def preprocess_text(text):\n",
        "    if pd.isna(text):\n",
        "        return \"\"\n",
        "\n",
        "    text = text.lower()\n",
        "    text = re.sub(r\"http\\S+|www\\S+|https\\S+\", '', text)  # remove URLs\n",
        "    text = re.sub(r\"\\@\\w+|\\#\\w+\", '', text)  # remove mentions and hashtags\n",
        "    text = re.sub(r\"\\S+@\\S+\", '', text)  # remove emails\n",
        "    text = contractions.fix(text)  # expand contractions\n",
        "\n",
        "    # Replace emoticons\n",
        "    for emoticon, word in emoticons.items():\n",
        "        text = text.replace(emoticon, word)\n",
        "\n",
        "    text = re.sub(r\"[\" + string.punctuation + \"]\", '', text)  # remove punctuation\n",
        "    text = re.sub(r\"\\d+\", '', text)  # remove numbers\n",
        "    text = re.sub(r\"(.)\\1{2,}\", r\"\\1\\1\", text)  # reduce 3+ char repeats to 2\n",
        "\n",
        "    text = text.strip()\n",
        "    return text\n",
        "\n",
        "# Load and clean each dataset\n",
        "for config, filename in datasets_info:\n",
        "    print(f\"Processing: {filename}\")\n",
        "    df = pd.read_csv(filename)\n",
        "\n",
        "    # Drop rows with all NaNs or missing key fields\n",
        "    df.dropna(subset=[\"rating\"], inplace=True)\n",
        "\n",
        "    # Clean text fields\n",
        "    df[\"cleaned_title\"] = df[\"title\"].apply(preprocess_text)\n",
        "    df[\"cleaned_text\"] = df[\"text\"].apply(preprocess_text)\n",
        "\n",
        "    # Save cleaned dataset\n",
        "    cleaned_filename = filename.replace(\".csv\", \"_cleaned.csv\")\n",
        "    df.to_csv(cleaned_filename, index=False)\n",
        "    print(f\"Saved cleaned data to {cleaned_filename}\")\n"
      ]
    }
  ],
  "metadata": {
    "colab": {
      "include_colab_link": true,
      "provenance": [],
      "toc_visible": true
    },
    "kernelspec": {
      "display_name": "Python 3",
      "name": "python3"
    },
    "language_info": {
      "name": "python"
    }
  },
  "nbformat": 4,
  "nbformat_minor": 0
}
